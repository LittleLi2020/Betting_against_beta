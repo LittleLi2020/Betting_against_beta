{
 "cells": [
  {
   "cell_type": "code",
   "execution_count": null,
   "metadata": {},
   "outputs": [],
   "source": [
    "# -*- coding: utf-8 -*-\n",
    "\"\"\"\n",
    "Created on Fri Sep 24 11:29:42 2021\n",
    "\n",
    "@author: VONO\n",
    "\"\"\"\n",
    "import pandas as pd\n",
    "import numpy as np\n",
    "import math"
   ]
  },
  {
   "cell_type": "code",
   "execution_count": null,
   "metadata": {},
   "outputs": [],
   "source": [
    "#读入股票文件和国债文件\n",
    "crsp=pd.read_csv(r\"D:\\Courses\\2021-2022_1\\实证金融学\\HW1\\data\\crsp_a_stock.csv\")\n",
    "bill=pd.read_csv(r\"D:\\Courses\\2021-2022_1\\实证金融学\\HW1\\data\\One-month-Treasury-bill.csv\")"
   ]
  },
  {
   "cell_type": "code",
   "execution_count": null,
   "metadata": {},
   "outputs": [],
   "source": [
    "#计算日度无风险回报率\n",
    "bill['rf']=(1+bill['t30ret'])**(1/30)-1\n",
    "bill['year']=(bill['caldt']/10000).apply(int)\n",
    "bill['month']=(bill['caldt']/100).apply(int)-bill['year']*100\n",
    "\n",
    "#合并数据集\n",
    "crsp['year']=(crsp['date']/10000).apply(int)\n",
    "crsp['month']=(crsp['date']/100).apply(int)-crsp['year']*100\n",
    "stock=pd.merge(crsp,bill,on=['year','month'])\n",
    "del crsp\n",
    "del bill\n",
    "\n",
    "#变量的drop\n",
    "stock=stock.drop(columns=['caldt','t30ret','month'])"
   ]
  },
  {
   "cell_type": "code",
   "execution_count": null,
   "metadata": {},
   "outputs": [],
   "source": [
    "#数据集分割和文件导出\n",
    "range1=[1950,1960,1970,1980,1990,2000,2012]\n",
    "range2=[1912,1946,1956,1966,1976,1986,1996]\n",
    "for i in range(0,7):\n",
    "    temp=stock[(stock['year']<=range1[i]) & (range2[i]<=stock['year'])].drop(columns=['year'])\n",
    "    temp.to_csv(r\"D:\\Courses\\2021-2022_1\\实证金融学\\HW1\\data\\stock{}.csv\".format(i+1))\n",
    "    del temp"
   ]
  }
 ],
 "metadata": {
  "kernelspec": {
   "display_name": "Python 3",
   "language": "python",
   "name": "python3"
  },
  "language_info": {
   "codemirror_mode": {
    "name": "ipython",
    "version": 3
   },
   "file_extension": ".py",
   "mimetype": "text/x-python",
   "name": "python",
   "nbconvert_exporter": "python",
   "pygments_lexer": "ipython3",
   "version": "3.7.4"
  }
 },
 "nbformat": 4,
 "nbformat_minor": 2
}
