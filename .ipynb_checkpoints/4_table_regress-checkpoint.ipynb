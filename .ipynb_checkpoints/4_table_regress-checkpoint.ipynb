{
 "cells": [
  {
   "cell_type": "code",
   "execution_count": 1,
   "metadata": {},
   "outputs": [],
   "source": [
    "import pandas as pd\n",
    "import numpy as np\n",
    "import math\n",
    "import statsmodels.formula.api as sm"
   ]
  },
  {
   "cell_type": "code",
   "execution_count": 2,
   "metadata": {},
   "outputs": [],
   "source": [
    "#导入数据\n",
    "m_ret = pd.read_csv(r\"D:\\学习资料\\实证金融学\\data_replication\\CRSP_common_stock_monthly.csv\")\n",
    "beta  = pd.read_csv(r\"D:\\学习资料\\实证金融学\\data_replication\\Result_monthly_beta.csv\")\n",
    "FF_Rf = pd.read_csv(r\"D:\\学习资料\\实证金融学\\data_replication\\FF_monthly_Rf.csv\")\n",
    "BAB  = pd.read_csv(r\"D:\\学习资料\\实证金融学\\data_replication\\Result_BAB_factor.csv\")\n",
    "FF4  = pd.read_csv(r\"D:\\学习资料\\实证金融学\\data_replication\\FF_4factor.csv\")\n",
    "Liquid_factor = pd.read_csv(r\"D:\\学习资料\\实证金融学\\data_replication\\liquidity factor.csv\")"
   ]
  },
  {
   "cell_type": "code",
   "execution_count": 3,
   "metadata": {},
   "outputs": [],
   "source": [
    "#首先处理无风险数据\n",
    "FF_Rf['year']=(FF_Rf['dateff']/10000).apply(int)\n",
    "FF_Rf['month']=(FF_Rf['dateff']/100).apply(int)-FF_Rf['year']*100\n",
    "FF_Rf.drop(columns=['dateff'],inplace=True)"
   ]
  },
  {
   "cell_type": "code",
   "execution_count": 4,
   "metadata": {},
   "outputs": [],
   "source": [
    "#然后处理common stock数据，分离年份和月份\n",
    "m_ret['year']=(m_ret['date']/10000).apply(int)\n",
    "m_ret['month']=(m_ret['date']/100).apply(int)-m_ret['year']*100\n",
    "m_ret.rename(columns={'PERMNO':'id'},inplace=True)\n",
    "m_ret.drop(columns=['date','SHRCD'],inplace=True)\n",
    "m_ret['RET'].replace(['B','C'],[np.nan,np.nan],inplace=True)\n",
    "m_ret['RET']=m_ret['RET'].apply(float)"
   ]
  },
  {
   "cell_type": "code",
   "execution_count": 5,
   "metadata": {},
   "outputs": [],
   "source": [
    "#合并m_ret和FF_Rf\n",
    "stock=pd.merge(m_ret, FF_Rf, on=['year','month'], how='left')\n",
    "stock=pd.merge(stock,beta,on=['id','year','month'])\n",
    "del m_ret\n",
    "del FF_Rf\n",
    "del beta"
   ]
  },
  {
   "cell_type": "code",
   "execution_count": 6,
   "metadata": {},
   "outputs": [],
   "source": [
    "#求stock的超额收益\n",
    "stock['ret']=stock['RET']-stock['rf']\n",
    "stock.drop(columns=['RET','rf'],inplace=True)"
   ]
  },
  {
   "cell_type": "code",
   "execution_count": 7,
   "metadata": {},
   "outputs": [],
   "source": [
    "#计算BAB的超额收益\n",
    "BAB['date']=BAB['year']*100+BAB['month']\n",
    "BAB.drop(columns=['year','month'],inplace=True)\n",
    "BAB=BAB[BAB['date']>=192904]"
   ]
  },
  {
   "cell_type": "code",
   "execution_count": 8,
   "metadata": {},
   "outputs": [
    {
     "name": "stdout",
     "output_type": "stream",
     "text": [
      "BAB portfolio's excess return is: 0.72%\n",
      "BAB portfolio's volatility is: 11.30%\n",
      "BAB portfolio's sharpe ratio is: 0.22\n"
     ]
    }
   ],
   "source": [
    "Excess_BAB=BAB['BAB'].mean()\n",
    "Volatility_BAB = BAB[\"BAB\"].var()\n",
    "SharpeRatio_BAB = Excess_BAB / np.sqrt(Volatility_BAB)\n",
    "print(\"BAB portfolio's excess return is: {:.2f}%\".format(Excess_BAB*100))\n",
    "print(\"BAB portfolio's volatility is: {:.2f}%\".format(Volatility_BAB*10000))\n",
    "print(\"BAB portfolio's sharpe ratio is: {:.2f}\".format(SharpeRatio_BAB))\n",
    "summary = {}\n",
    "summary[\"Excess_return\"] = round(Excess_BAB*100,2)"
   ]
  },
  {
   "cell_type": "code",
   "execution_count": 9,
   "metadata": {},
   "outputs": [],
   "source": [
    "# n-factor model, n = 1,3,4,5\n",
    "## 首先处理FF4的数据\n",
    "FF4['date']=(FF4['dateff']/100).apply(int)\n",
    "FF4.drop(columns=['dateff'],inplace=True)"
   ]
  },
  {
   "cell_type": "code",
   "execution_count": 10,
   "metadata": {},
   "outputs": [],
   "source": [
    "BAB = pd.merge(BAB,FF4,on = \"date\", how = \"left\")"
   ]
  },
  {
   "cell_type": "code",
   "execution_count": 12,
   "metadata": {},
   "outputs": [
    {
     "name": "stdout",
     "output_type": "stream",
     "text": [
      "BAB portfolio's CAPM alpha is: 0.75\n"
     ]
    }
   ],
   "source": [
    "## CPAM alpha\n",
    "result = sm.ols(formula = \"BAB ~ 1 + mktrf\",data = BAB).fit()\n",
    "print(\"BAB portfolio's CAPM alpha is: {:.2f}\".format(result.params[\"Intercept\"]*100))\n",
    "summary[\"CAPM_alpha\"] = round(result.params[\"Intercept\"]*100,2)"
   ]
  },
  {
   "cell_type": "code",
   "execution_count": 13,
   "metadata": {},
   "outputs": [
    {
     "name": "stdout",
     "output_type": "stream",
     "text": [
      "BAB portfolio's three-factor alpha is: 0.76\n"
     ]
    }
   ],
   "source": [
    "## Three-factor alpha\n",
    "result = sm.ols(formula = \"BAB ~ 1 + mktrf+ smb+ hml\",data = BAB).fit()\n",
    "print(\"BAB portfolio's three-factor alpha is: {:.2f}\".format(result.params[\"Intercept\"]*100))\n",
    "summary[\"three_factor_alpha\"] = round(result.params[\"Intercept\"]*100,2)"
   ]
  },
  {
   "cell_type": "code",
   "execution_count": 14,
   "metadata": {},
   "outputs": [
    {
     "name": "stdout",
     "output_type": "stream",
     "text": [
      "BAB portfolio's four-factor alpha is: 0.53\n"
     ]
    }
   ],
   "source": [
    "## Four-factor alpha\n",
    "result = sm.ols(formula = \"BAB ~ 1 + mktrf+ smb+ hml+ umd\",data = BAB).fit()\n",
    "print(\"BAB portfolio's four-factor alpha is: {:.2f}\".format(result.params[\"Intercept\"]*100))\n",
    "summary[\"four_factor_alpha\"] = round(result.params[\"Intercept\"]*100,2)"
   ]
  },
  {
   "cell_type": "code",
   "execution_count": 15,
   "metadata": {},
   "outputs": [],
   "source": [
    "## Five-factor alpha\n",
    "Liquid_factor = Liquid_factor[[\"DATE\",\"PS_VWF\"]]\n",
    "Liquid_factor = Liquid_factor.rename(columns = {\"DATE\":\"date\",\"PS_VWF\":\"vwf\"})\n",
    "Liquid_factor[\"date\"] = (Liquid_factor['date']/100).apply(int)\n",
    "BAB = pd.merge(BAB,Liquid_factor,on = \"date\", how = \"left\")"
   ]
  },
  {
   "cell_type": "code",
   "execution_count": 16,
   "metadata": {},
   "outputs": [
    {
     "name": "stdout",
     "output_type": "stream",
     "text": [
      "BAB portfolio's five-factor alpha is: 0.51\n"
     ]
    }
   ],
   "source": [
    "result = sm.ols(formula = \"BAB ~ 1 + mktrf+ smb+ hml+ umd+ vwf\",data = BAB,missing='drop').fit()\n",
    "print(\"BAB portfolio's five-factor alpha is: {:.2f}\".format(result.params[\"Intercept\"]*100))\n",
    "summary[\"five_factor_alpha\"] = round(result.params[\"Intercept\"]*100,2)"
   ]
  },
  {
   "cell_type": "code",
   "execution_count": 17,
   "metadata": {},
   "outputs": [],
   "source": [
    "summary[\"Volatility\"] = round(Volatility_BAB * 10000,3)\n",
    "summary[\"SharpeRatio\"] = round(SharpeRatio_BAB,2)"
   ]
  },
  {
   "cell_type": "code",
   "execution_count": 23,
   "metadata": {},
   "outputs": [
    {
     "data": {
      "text/html": [
       "<div>\n",
       "<style scoped>\n",
       "    .dataframe tbody tr th:only-of-type {\n",
       "        vertical-align: middle;\n",
       "    }\n",
       "\n",
       "    .dataframe tbody tr th {\n",
       "        vertical-align: top;\n",
       "    }\n",
       "\n",
       "    .dataframe thead th {\n",
       "        text-align: right;\n",
       "    }\n",
       "</style>\n",
       "<table border=\"1\" class=\"dataframe\">\n",
       "  <thead>\n",
       "    <tr style=\"text-align: right;\">\n",
       "      <th></th>\n",
       "      <th>BAB</th>\n",
       "    </tr>\n",
       "  </thead>\n",
       "  <tbody>\n",
       "    <tr>\n",
       "      <th>Excess_return</th>\n",
       "      <td>0.720</td>\n",
       "    </tr>\n",
       "    <tr>\n",
       "      <th>CAPM_alpha</th>\n",
       "      <td>0.750</td>\n",
       "    </tr>\n",
       "    <tr>\n",
       "      <th>three_factor_alpha</th>\n",
       "      <td>0.760</td>\n",
       "    </tr>\n",
       "    <tr>\n",
       "      <th>four_factor_alpha</th>\n",
       "      <td>0.530</td>\n",
       "    </tr>\n",
       "    <tr>\n",
       "      <th>five_factor_alpha</th>\n",
       "      <td>0.510</td>\n",
       "    </tr>\n",
       "    <tr>\n",
       "      <th>Volatility</th>\n",
       "      <td>11.303</td>\n",
       "    </tr>\n",
       "    <tr>\n",
       "      <th>SharpeRatio</th>\n",
       "      <td>0.220</td>\n",
       "    </tr>\n",
       "  </tbody>\n",
       "</table>\n",
       "</div>"
      ],
      "text/plain": [
       "                       BAB\n",
       "Excess_return        0.720\n",
       "CAPM_alpha           0.750\n",
       "three_factor_alpha   0.760\n",
       "four_factor_alpha    0.530\n",
       "five_factor_alpha    0.510\n",
       "Volatility          11.303\n",
       "SharpeRatio          0.220"
      ]
     },
     "execution_count": 23,
     "metadata": {},
     "output_type": "execute_result"
    }
   ],
   "source": [
    "pd.DataFrame(summary,index = [\"BAB\"]).T"
   ]
  }
 ],
 "metadata": {
  "kernelspec": {
   "display_name": "Python 3",
   "language": "python",
   "name": "python3"
  },
  "language_info": {
   "codemirror_mode": {
    "name": "ipython",
    "version": 3
   },
   "file_extension": ".py",
   "mimetype": "text/x-python",
   "name": "python",
   "nbconvert_exporter": "python",
   "pygments_lexer": "ipython3",
   "version": "3.7.4"
  }
 },
 "nbformat": 4,
 "nbformat_minor": 2
}
