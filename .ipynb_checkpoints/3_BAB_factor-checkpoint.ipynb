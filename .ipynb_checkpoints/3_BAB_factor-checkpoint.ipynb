{
 "cells": [
  {
   "cell_type": "code",
   "execution_count": null,
   "metadata": {},
   "outputs": [],
   "source": [
    "import pandas as pd\n",
    "import numpy as np\n",
    "import scipy.stats as st"
   ]
  },
  {
   "cell_type": "code",
   "execution_count": null,
   "metadata": {},
   "outputs": [],
   "source": [
    "def rank_data(x):\n",
    "    '''\n",
    "    得到同一日期内各个证券beta的排序\n",
    "    '''\n",
    "    x[\"rank\"] = st.rankdata(x[\"weight_beta\"])\n",
    "    x = x.drop([\"weight_beta\"],axis = 1)\n",
    "    return x"
   ]
  },
  {
   "cell_type": "code",
   "execution_count": 3,
   "metadata": {},
   "outputs": [],
   "source": [
    "def rank_weight(x):\n",
    "    '''\n",
    "    得到同一日期内各个证券的投资权重\n",
    "    '''\n",
    "    z_bar = np.mean(x[\"rank\"])\n",
    "    k = 2 / (np.sum(np.abs(x[\"rank\"] - z_bar)))\n",
    "    w_H = k * np.maximum(x[\"rank\"] - z_bar,0)\n",
    "    w_L = k * -np.minimum(x[\"rank\"] - z_bar,0)\n",
    "    x[\"w_H\"] = w_H\n",
    "    x[\"w_L\"] = w_L\n",
    "    return x"
   ]
  },
  {
   "cell_type": "code",
   "execution_count": 4,
   "metadata": {},
   "outputs": [],
   "source": [
    "stock = pd.read_csv(r\"D:\\学习资料\\实证金融学\\data_replication\\Result_monthly_beta.csv\")\n",
    "m_ret = pd.read_csv(r\"D:\\学习资料\\实证金融学\\data_replication\\CRSP_common_stock_monthly.csv\")\n",
    "FF_Rf = pd.read_csv(r\"D:\\学习资料\\实证金融学\\data_replication\\FF_monthly_Rf.csv\")"
   ]
  },
  {
   "cell_type": "code",
   "execution_count": 5,
   "metadata": {},
   "outputs": [],
   "source": [
    "# 提取出有效的行\n",
    "stock.dropna(subset = [\"beta\"],inplace = True)\n",
    "# 去除日期不在每个月最后一日的行\n",
    "stock[\"date\"] =  pd.to_datetime(stock[\"date\"])\n",
    "stock[\"last_day\"] = stock.groupby([\"year\",\"month\"])[\"date\"].transform(lambda v: max(v))\n",
    "stock[\"is_last_date\"] = stock[\"date\"] == stock[\"last_day\"]\n",
    "stock = stock[stock[\"is_last_date\"]]\n",
    "stock.drop([\"last_day\",\"is_last_date\"],axis = 1,inplace = True)\n",
    "# 计算weight_beta\n",
    "w = 0.6\n",
    "beta_xs = 1\n",
    "stock[\"weight_beta\"] = w * stock[\"beta\"] + (1 - w) * beta_xs\n",
    "# 计算同一日期各个证券beta的排序\n",
    "ranks = stock.groupby(\"date\")[\"id\",\"date\",\"weight_beta\"].apply(rank_data)\n",
    "# 计算同一日期各个证券的投资权重\n",
    "ranks = ranks.groupby(\"date\").apply(rank_weight)\n",
    "# 将投资权重merge进入stock，得到stock\n",
    "stock = pd.merge(stock,ranks,on=['id','date'],how = \"left\")\n",
    "stock.sort_values(by=['id','date'],inplace=True)\n",
    "# 去除没有配置资产的股票\n",
    "# stock = stock.dropna(subset = [\"w_L\",\"w_H\"])"
   ]
  },
  {
   "cell_type": "code",
   "execution_count": 7,
   "metadata": {},
   "outputs": [],
   "source": [
    "#处理月度收益率\n",
    "m_ret['year']=(m_ret['date']/10000).apply(int)\n",
    "m_ret['month']=(m_ret['date']/100).apply(int)-m_ret['year']*100\n",
    "m_ret.rename(columns={'PERMNO':'id'},inplace=True)\n",
    "m_ret.drop(columns=['date','SHRCD'],inplace=True)\n",
    "m_ret['RET'].replace(['B','C'],[np.nan,np.nan],inplace=True)\n",
    "m_ret['RET']=m_ret['RET'].apply(float)\n",
    "#合并数据\n",
    "stock = pd.merge(stock,m_ret,on=['id','year','month'],how = \"left\")\n",
    "del m_ret\n",
    "stock.drop([\"EXCHCD\"],axis = 1,inplace = True)"
   ]
  },
  {
   "cell_type": "code",
   "execution_count": 8,
   "metadata": {},
   "outputs": [],
   "source": [
    "#处理无风险收益率\n",
    "FF_Rf['year']=(FF_Rf['dateff']/10000).apply(int)\n",
    "FF_Rf['month']=(FF_Rf['dateff']/100).apply(int)-FF_Rf['year']*100\n",
    "#合并数据\n",
    "stock = pd.merge(stock,FF_Rf,on=['year','month'],how = \"left\")\n",
    "del FF_Rf\n",
    "stock.drop([\"dateff\"],axis = 1, inplace = True)"
   ]
  },
  {
   "cell_type": "code",
   "execution_count": 9,
   "metadata": {},
   "outputs": [],
   "source": [
    "# 将8000多个obs缺失的RET设置为0\n",
    "stock[\"RET\"] = stock[\"RET\"].fillna(value = 0)"
   ]
  },
  {
   "cell_type": "code",
   "execution_count": 10,
   "metadata": {},
   "outputs": [],
   "source": [
    "# 计算high/low beta portfolio的收益\n",
    "stock[\"w_H1\"] = stock.groupby(\"id\")[\"w_H\"].shift(1)\n",
    "stock[\"w_L1\"] = stock.groupby(\"id\")[\"w_L\"].shift(1)\n",
    "stock.dropna(subset = [\"w_H1\",\"w_L1\"],inplace = True)"
   ]
  },
  {
   "cell_type": "code",
   "execution_count": 11,
   "metadata": {},
   "outputs": [],
   "source": [
    "# 计算BAB factor\n",
    "r_L = stock.groupby(['year','month']).apply(lambda x: np.dot(x[\"RET\"],x[\"w_L1\"]))\n",
    "r_H = stock.groupby(['year','month']).apply(lambda x: np.dot(x[\"RET\"],x[\"w_H1\"]))\n",
    "beta_L = stock.groupby(['year','month']).apply(lambda x: np.dot(x[\"weight_beta\"],x[\"w_L\"]))\n",
    "beta_H = stock.groupby(['year','month']).apply(lambda x: np.dot(x[\"weight_beta\"],x[\"w_H\"]))\n",
    "beta_L.name = \"beta_L\"\n",
    "r_L.name = \"r_L\"\n",
    "beta_H.name = \"beta_H\"\n",
    "r_H.name = \"r_H\"\n",
    "BAB_factor_L = pd.merge(beta_L,r_L,how = \"outer\",on = ['year','month'])\n",
    "BAB_factor_H = pd.merge(beta_H,r_H,how = \"outer\",on = ['year','month'])\n",
    "BAB_factor = pd.merge(BAB_factor_L,BAB_factor_H, how = \"outer\",on = ['year','month'])\n",
    "Rf = stock[['year','month','rf']]\n",
    "Rf = Rf.drop_duplicates(subset=['year','month'])\n",
    "BAB_factor = pd.merge(BAB_factor,Rf, how = \"outer\", on = ['year','month'])\n",
    "BAB_factor[\"beta_L1\"] =  BAB_factor[\"beta_L\"].shift(1)\n",
    "BAB_factor[\"beta_H1\"] =  BAB_factor[\"beta_H\"].shift(1)\n",
    "BAB_factor[\"BAB\"] = (BAB_factor[\"r_L\"] - BAB_factor[\"rf\"]) / BAB_factor[\"beta_L1\"] - (BAB_factor[\"r_H\"] - BAB_factor[\"rf\"]) / BAB_factor[\"beta_H1\"]"
   ]
  },
  {
   "cell_type": "code",
   "execution_count": 18,
   "metadata": {},
   "outputs": [],
   "source": [
    "BAB_factor[['year','month','BAB']].to_csv(r\"D:\\学习资料\\实证金融学\\data_replication\\Result_BAB_factor.csv\")"
   ]
  }
 ],
 "metadata": {
  "kernelspec": {
   "display_name": "Python 3",
   "language": "python",
   "name": "python3"
  },
  "language_info": {
   "codemirror_mode": {
    "name": "ipython",
    "version": 3
   },
   "file_extension": ".py",
   "mimetype": "text/x-python",
   "name": "python",
   "nbconvert_exporter": "python",
   "pygments_lexer": "ipython3",
   "version": "3.7.4"
  }
 },
 "nbformat": 4,
 "nbformat_minor": 2
}
