{
 "cells": [
  {
   "cell_type": "code",
   "execution_count": 253,
   "metadata": {},
   "outputs": [],
   "source": [
    "import pandas as pd\n",
    "import numpy as np\n",
    "import scipy.stats as st"
   ]
  },
  {
   "cell_type": "code",
   "execution_count": 256,
   "metadata": {},
   "outputs": [],
   "source": [
    "def rank_data(x):\n",
    "    '''\n",
    "    得到同一日期内各个证券beta的排序\n",
    "    '''\n",
    "    x[\"rank\"] = st.rankdata(x[\"weight_beta\"])\n",
    "    x = x.drop([\"weight_beta\"],axis = 1)\n",
    "    return x"
   ]
  },
  {
   "cell_type": "code",
   "execution_count": 257,
   "metadata": {},
   "outputs": [],
   "source": [
    "def rank_weight(x):\n",
    "    '''\n",
    "    得到同一日期内各个证券的投资权重\n",
    "    '''\n",
    "    z_bar = np.mean(x[\"rank\"])\n",
    "    k = 2 / (np.sum(np.abs(x[\"rank\"] - z_bar)))\n",
    "    w_H = k * np.maximum(x[\"rank\"] - z_bar,0)\n",
    "    w_L = k * -np.minimum(x[\"rank\"] - z_bar,0)\n",
    "    x[\"w_H\"] = w_H\n",
    "    x[\"w_L\"] = w_L\n",
    "    return x"
   ]
  },
  {
   "cell_type": "code",
   "execution_count": 259,
   "metadata": {},
   "outputs": [],
   "source": [
    "stock = pd.read_csv(r\"D:\\学习资料\\实证金融学\\data_replication\\stock1_ex_ante_beta.csv\")\n",
    "\n",
    "# 计算weight_beta\n",
    "w = 0.6\n",
    "beta_xs = 1\n",
    "stock[\"weight_beta\"] = w * stock[\"beta\"] + (1 - w) * beta_xs\n",
    "# 提取出有效的行\n",
    "stock[\"obs\"] = list(stock.groupby(\"id\")[\"id\"].apply(lambda v:pd.Series(range(0,len(v)))))\n",
    "stock_val = stock.loc[stock[\"obs\"] >= 1826,:]\n",
    "\n",
    "# 计算同一日期各个证券beta的排序\n",
    "ranks = stock_val.loc[pd.notna(stock_val[\"weight_beta\"]),:].groupby(\"date\")[\"id\",\"date\",\"weight_beta\"].apply(rank_data)\n",
    "# 计算同一日期各个证券的投资权重\n",
    "ranks = ranks.groupby(\"date\").apply(rank_weight)\n",
    "# 将投资权重merge进入stock_val，得到stock_fin\n",
    "stock_fin = pd.merge(stock_val,ranks,on=['id','date'],how = \"left\")\n",
    "stock_fin.sort_values(by=['id','date'],inplace=True)\n",
    "\n",
    "# 将少量缺失的return设置为用0来填充\n",
    "stock_fin.loc[pd.isna(stock_fin[\"ret\"]),\"ret\"] = 0\n",
    "# 如果某天某证券的beta没法计算，则将他们的投资权重设置为0，即不投资他们\n",
    "stock_fin.loc[pd.isna(stock_fin[\"weight_beta\"]),\"w_H\"] = 0\n",
    "stock_fin.loc[pd.isna(stock_fin[\"weight_beta\"]),\"w_L\"] = 0\n",
    "# 如果某天某证券的beta没法计算，则将他们的beta设置为1。因为该证券的投资权重为0，所以不管设置他们的beta为多少，都不会影响BAB Factor的计算\n",
    "stock_fin.loc[pd.isna(stock_fin[\"weight_beta\"]),\"weight_beta\"] = 1\n",
    "\n",
    "# 计算high/low beta portfolio的收益\n",
    "stock_fin[\"w_H1\"] = stock_fin.groupby(\"id\")[\"w_H\"].shift(1)\n",
    "stock_fin[\"w_L1\"] = stock_fin.groupby(\"id\")[\"w_L\"].shift(1)\n",
    "r_L = stock_fin.loc[stock_fin[\"obs\"] > 1826,:].groupby(\"date\").apply(lambda x: np.dot(x[\"ret\"],x[\"w_L1\"]))\n",
    "r_H = stock_fin.loc[stock_fin[\"obs\"] > 1826,:].groupby(\"date\").apply(lambda x: np.dot(x[\"ret\"],x[\"w_H1\"]))\n",
    "# 计算high/low beta portfolio的beta\n",
    "beta_L = stock_fin.loc[stock_fin[\"obs\"] >= 1826,:].groupby(\"date\").apply(lambda x: np.dot(x[\"weight_beta\"],x[\"w_L\"]))\n",
    "beta_H = stock_fin.loc[stock_fin[\"obs\"] >= 1826,:].groupby(\"date\").apply(lambda x: np.dot(x[\"weight_beta\"],x[\"w_H\"]))\n",
    "beta_L.name = \"beta_L\"\n",
    "r_L.name = \"r_L\"\n",
    "beta_H.name = \"beta_H\"\n",
    "r_H.name = \"r_H\"\n",
    "# 计算BAB factor\n",
    "BAB_factor_L = pd.merge(beta_L,r_L,how = \"outer\",on = \"date\")\n",
    "BAB_factor_H = pd.merge(beta_H,r_H,how = \"outer\",on = \"date\")\n",
    "BAB_factor = pd.merge(BAB_factor_L,BAB_factor_H, how = \"outer\",on = \"date\")\n",
    "market = stock_fin[[\"date\",\"mr\"]]\n",
    "market = market.drop_duplicates(subset=[\"date\",\"mr\"])\n",
    "market = market.set_index(\"date\")\n",
    "BAB_factor = pd.merge(BAB_factor,market, how = \"outer\", on = \"date\")\n",
    "BAB_factor[\"beta_L1\"] =  BAB_factor[\"beta_L\"].shift(1)\n",
    "BAB_factor[\"beta_H1\"] =  BAB_factor[\"beta_H\"].shift(1)\n",
    "BAB_factor[\"BAB\"] = (BAB_factor[\"r_L\"] - BAB_factor[\"mr\"]) / BAB_factor[\"beta_L1\"] - (BAB_factor[\"r_H\"] - BAB_factor[\"mr\"]) / BAB_factor[\"beta_L1\"]"
   ]
  },
  {
   "cell_type": "code",
   "execution_count": 260,
   "metadata": {},
   "outputs": [],
   "source": [
    "# -----------------------------------------以下为测试代码----------------------------------------------------"
   ]
  }
 ],
 "metadata": {
  "kernelspec": {
   "display_name": "Python 3",
   "language": "python",
   "name": "python3"
  },
  "language_info": {
   "codemirror_mode": {
    "name": "ipython",
    "version": 3
   },
   "file_extension": ".py",
   "mimetype": "text/x-python",
   "name": "python",
   "nbconvert_exporter": "python",
   "pygments_lexer": "ipython3",
   "version": "3.7.4"
  }
 },
 "nbformat": 4,
 "nbformat_minor": 2
}
