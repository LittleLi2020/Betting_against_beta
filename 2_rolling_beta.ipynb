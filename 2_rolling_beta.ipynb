{
 "cells": [
  {
   "cell_type": "code",
   "execution_count": 26,
   "metadata": {},
   "outputs": [],
   "source": [
    "# -*- coding: utf-8 -*-\n",
    "\"\"\"\n",
    "Created on Fri Sep 24 23:54:22 2021\n",
    "\n",
    "@author: VONO\n",
    "\"\"\"\n",
    "\n",
    "import pandas as pd\n",
    "import numpy as np"
   ]
  },
  {
   "cell_type": "code",
   "execution_count": 27,
   "metadata": {},
   "outputs": [],
   "source": [
    "#导入数据\n",
    "stock=pd.read_csv(r\"\\学习资料\\实证金融学\\data_replication\\stock1.csv\")"
   ]
  },
  {
   "cell_type": "code",
   "execution_count": 28,
   "metadata": {},
   "outputs": [],
   "source": [
    "#计算超额收益率并设置时间作为索引\n",
    "#stock=stock.drop(stock[(stock.RET=='C') | (stock.RET=='B')].index)\n",
    "stock['RET'].replace(['B','C'],[np.nan,np.nan],inplace=True)\n",
    "stock['RET']=stock['RET'].apply(float)\n",
    "stock['ret']=stock['RET'] - stock['rf']\n",
    "stock['mr']=stock['vwretd'] - stock['rf']\n",
    "stock['id']=stock['PERMNO']\n",
    "stock=stock[['id','date','ret','mr']]\n",
    "stock.set_index(pd.to_datetime(stock['date'].astype(str)),inplace=True)\n",
    "stock.drop(columns=['date'],inplace=True)\n",
    "\n",
    "#计算个股的rolling volatility\n",
    "stock.sort_values(by=['id','date'],inplace=True)\n",
    "stock['lnret']=np.log(1+stock['ret'])\n",
    "stock['rstd']=stock.groupby(stock['id'])['lnret'].apply(lambda x: x.rolling('365D',min_periods=120,closed='left').std())\n",
    "stock.drop(columns=['lnret'],inplace=True)\n",
    "\n",
    "#计算市场的rolling volatility\n",
    "market=stock[['mr']]\n",
    "market = market.reset_index()\n",
    "market = market.drop_duplicates(subset=[\"date\",\"mr\"])\n",
    "market = market.set_index(\"date\")\n",
    "mstd=np.log(1+market['mr']).rolling('365D',min_periods=120,closed='left').std()\n",
    "mstd=pd.DataFrame(mstd)\n",
    "mstd.rename(columns={'mr':'mstd'},inplace=True)\n",
    "\n",
    "#合并数据\n",
    "stock=pd.merge(stock,mstd,on=['date'],how='left')\n",
    "del market\n",
    "del mstd\n",
    "\n",
    "#计算相关系数\n",
    "#首先计算个股加和回报率\n",
    "stock.sort_values(by=['id','date'],inplace=True)\n",
    "stock['lnret1']=(stock['ret']+1).apply(np.log)\n",
    "stock['lnret']=stock['lnret1']+stock.groupby(stock['id'])['lnret1'].shift(1)+stock.groupby(stock['id'])['lnret1'].shift(2)\n",
    "stock.drop(columns=['lnret1'],inplace=True)\n",
    "#计算市场加和回报率\n",
    "stock['lnmr1']=(stock['mr']+1).apply(np.log)\n",
    "stock['lnmr']=stock['lnmr1']+stock.groupby(stock['id'])['lnmr1'].shift(1)+stock.groupby(stock['id'])['lnmr1'].shift(2)\n",
    "stock.drop(columns=['lnmr1'],inplace=True)\n",
    "#计算相关系数\n",
    "corr=stock.groupby(stock['id'])[['lnret','lnmr']].apply(lambda x: x.rolling('1826D',min_periods=750,closed='left').corr())\n",
    "corr=corr.loc[(slice(None),slice(None),'lnret'),'lnmr']\n",
    "corr=pd.DataFrame(corr)\n",
    "corr.rename(columns={'lnmr':'corr'},inplace=True)\n",
    "\n",
    "#再次合并数据\n",
    "stock=pd.merge(stock,corr,on=['id','date'],how='left')\n",
    "stock['beta']=stock['corr']*stock['rstd']/stock['mstd']"
   ]
  },
  {
   "cell_type": "code",
   "execution_count": 29,
   "metadata": {},
   "outputs": [],
   "source": [
    "stock.to_csv(r\"D:\\学习资料\\实证金融学\\data_replication\\stock1_ex_ante_beta.csv\")"
   ]
  }
 ],
 "metadata": {
  "kernelspec": {
   "display_name": "Python 3",
   "language": "python",
   "name": "python3"
  },
  "language_info": {
   "codemirror_mode": {
    "name": "ipython",
    "version": 3
   },
   "file_extension": ".py",
   "mimetype": "text/x-python",
   "name": "python",
   "nbconvert_exporter": "python",
   "pygments_lexer": "ipython3",
   "version": "3.7.4"
  }
 },
 "nbformat": 4,
 "nbformat_minor": 2
}
